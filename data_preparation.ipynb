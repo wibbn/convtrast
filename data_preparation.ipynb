{
 "cells": [
  {
   "cell_type": "markdown",
   "metadata": {},
   "source": [
    "## Data Description\n",
    "+ **id**: df message id [int]\n",
    "+ **date**: message send date [date]\n",
    "+ **from**: sender name [str]\n",
    "+ **from_id**: sender id [int]\n",
    "+ **forwarded_from**: the one from whom the message was forwarded [str]\n",
    "+ **text**: text [list]\n",
    "+ **file**: attached file [str]\n",
    "+ **mime_type**: type of attached file [str]\n",
    "+ **photo**: attached photo [str]\n",
    "+ **self_destruct_period_seconds**: self destruct period seconds :) [int]\n",
    "+ **saved_from**: idk\n",
    "+ **width**, **height**: size of sticker or photo maybe [float]\n",
    "+ **edited**: last edited date [date]\n",
    "+ **thumbnail**: sticker image [str]\n",
    "+ **media_type**: type of message media [str]\n",
    "+ **duration_seconds**: message duration time [float] \n",
    "+ **performer**: song performer\n",
    "+ **title**: song title\n",
    "+ **sticker_emoji**: emoji describing the sticker\n",
    "+ **contact_information...**: attached contact information\n",
    "    + **first_name**: contact first name[str]\n",
    "    + **last_name**: contact last name [str]\n",
    "    + **phone_number**: contact phone number [str]\n",
    "+ **reply_to_message_id**: id of the message to which this reply [int]\n",
    "+ **actor**: name of the person who acts [str]\n",
    "+ **actor_id**: id of the person who acts [int]\n",
    "+ **action**: type of action [str]\n",
    "+ **discard_reason**: the reason the call was rejected [str]\n",
    "+ **location_information...**: coordinates [floats]\n",
    "+ **place_name**: place name [str]\n",
    "+ **address**: address from attached location [str]\n",
    "+ **live_location_period_seconds**: live_location_period_seconds [int]\n",
    "+ **via_bot**: bot name if message was send from bot [str]\n",
    "+ **game_title**: name of the game sent [str]\n",
    "+ **game_description**: discription of the game sent [str]\n",
    "+ **game_link**: link of the game sent [str]\n",
    "+ **game_message_id**: id of the game sent [int]\n",
    "+ **score**: game score [float]\n",
    "+ **chat_type**: chat type [str]\n",
    "+ **chat_name**: chat name [str]\n",
    "+ **chat_id**: chat id [int]"
   ]
  },
  {
   "cell_type": "markdown",
   "metadata": {},
   "source": [
    "## Import"
   ]
  },
  {
   "cell_type": "code",
   "execution_count": 1,
   "metadata": {},
   "outputs": [],
   "source": [
    "import json\n",
    "import pandas as pd\n",
    "from pandas.io.json import json_normalize\n",
    "import numpy as np"
   ]
  },
  {
   "cell_type": "code",
   "execution_count": 2,
   "metadata": {},
   "outputs": [],
   "source": [
    "from data_extractor import MessageExtractor"
   ]
  },
  {
   "cell_type": "markdown",
   "metadata": {},
   "source": [
    "## Extract raw data"
   ]
  },
  {
   "cell_type": "code",
   "execution_count": 3,
   "metadata": {},
   "outputs": [],
   "source": [
    "me = MessageExtractor()"
   ]
  },
  {
   "cell_type": "code",
   "execution_count": 6,
   "metadata": {},
   "outputs": [],
   "source": [
    "data = me.extract_from_json(\n",
    "    file_path='./data/raw.json', \n",
    "    whitelist=['Dima', 'Nikita', 'Vera', 'Michael', 'Mitya', 'Sister', 'Денис'],\n",
    "    username='🍿')"
   ]
  },
  {
   "cell_type": "code",
   "execution_count": 7,
   "metadata": {},
   "outputs": [
    {
     "output_type": "stream",
     "name": "stdout",
     "text": "<class 'pandas.core.frame.DataFrame'>\nInt64Index: 126771 entries, 2 to 213613\nData columns (total 5 columns):\n #   Column               Non-Null Count   Dtype         \n---  ------               --------------   -----         \n 0   text                 126771 non-null  object        \n 1   from                 126771 non-null  object        \n 2   date                 126771 non-null  datetime64[ns]\n 3   reply_to_message_id  6421 non-null    object        \n 4   chat_id              126771 non-null  int64         \ndtypes: datetime64[ns](1), int64(1), object(3)\nmemory usage: 5.8+ MB\n"
    }
   ],
   "source": [
    "data.info()"
   ]
  },
  {
   "cell_type": "code",
   "execution_count": 5,
   "metadata": {},
   "outputs": [],
   "source": [
    "data.to_csv('./data/msgs.csv')"
   ]
  },
  {
   "cell_type": "code",
   "execution_count": null,
   "metadata": {},
   "outputs": [],
   "source": []
  }
 ],
 "metadata": {
  "language_info": {
   "codemirror_mode": {
    "name": "ipython",
    "version": 3
   },
   "file_extension": ".py",
   "mimetype": "text/x-python",
   "name": "python",
   "nbconvert_exporter": "python",
   "pygments_lexer": "ipython3",
   "version": "3.7.6-final"
  },
  "orig_nbformat": 2,
  "kernelspec": {
   "name": "python3",
   "display_name": "Python 3"
  }
 },
 "nbformat": 4,
 "nbformat_minor": 2
}